{
 "cells": [
  {
   "cell_type": "markdown",
   "metadata": {},
   "source": [
    "# Python"
   ]
  },
  {
   "cell_type": "code",
   "execution_count": 1,
   "metadata": {},
   "outputs": [
    {
     "name": "stdout",
     "output_type": "stream",
     "text": [
      "Hello world\n",
      "Double of 100 is 200\n"
     ]
    }
   ],
   "source": [
    "print(\"Hello world\")\n",
    "x = 100\n",
    "print(f\"Double of {x} is {x*2}\")"
   ]
  },
  {
   "cell_type": "markdown",
   "metadata": {},
   "source": [
    "## Basic"
   ]
  },
  {
   "cell_type": "markdown",
   "metadata": {},
   "source": [
    "### Data structures"
   ]
  },
  {
   "cell_type": "markdown",
   "metadata": {},
   "source": [
    "#### List"
   ]
  },
  {
   "cell_type": "code",
   "execution_count": 2,
   "metadata": {},
   "outputs": [
    {
     "name": "stdout",
     "output_type": "stream",
     "text": [
      "[2, 4, 6, 8, 10]\n"
     ]
    }
   ],
   "source": [
    "numbers = [1, 2, 3, 4, 5, 6, 7, 8, 9, 10]\n",
    "even = []\n",
    "\n",
    "for number in numbers:\n",
    "  if number % 2 == 0:\n",
    "    even.append(number)\n",
    "\n",
    "print(even)"
   ]
  },
  {
   "cell_type": "code",
   "execution_count": 11,
   "metadata": {},
   "outputs": [
    {
     "name": "stdout",
     "output_type": "stream",
     "text": [
      "1\n",
      "3\n",
      "5\n",
      "2\n",
      "[2, 3]\n",
      "[1, 2, 3]\n",
      "[2, 3, 4, 5]\n",
      "[1, 3, 5]\n",
      "[5, 4, 3, 2, 1]\n",
      "[1, 10, 3, 4, 5]\n",
      "[1, 10, 3, 4, 5, 6]\n"
     ]
    }
   ],
   "source": [
    "lst = [1, 2, 3, 4, 5]\n",
    "print(lst[0])\n",
    "print(lst[2])\n",
    "print(lst[-1])\n",
    "print(lst[-4])\n",
    "print(lst[1:3])\n",
    "print(lst[:3])\n",
    "print(lst[1:])\n",
    "print(lst[::2])\n",
    "print(lst[::-1])\n",
    "\n",
    "lst[1] = 10\n",
    "print(lst)\n",
    "lst.append(6)\n",
    "print(lst)"
   ]
  },
  {
   "cell_type": "markdown",
   "metadata": {},
   "source": [
    "#### Tuple"
   ]
  },
  {
   "cell_type": "code",
   "execution_count": 14,
   "metadata": {},
   "outputs": [
    {
     "name": "stdout",
     "output_type": "stream",
     "text": [
      "3\n",
      "(2, 3)\n",
      "(5, 4, 3, 2, 1)\n"
     ]
    }
   ],
   "source": [
    "tpl = (1, 2, 3, 4, 5)\n",
    "print(tpl[2])\n",
    "print(tpl[1:3])\n",
    "print(tpl[::-1])"
   ]
  },
  {
   "cell_type": "code",
   "execution_count": 16,
   "metadata": {},
   "outputs": [
    {
     "name": "stdout",
     "output_type": "stream",
     "text": [
      "1 1\n",
      "10 2\n"
     ]
    }
   ],
   "source": [
    "def euclidean_division(dividend, divisor):\n",
    "  quotient = dividend // divisor\n",
    "  remainder = dividend % divisor\n",
    "  return (quotient, remainder)\n",
    "\n",
    "t = euclidean_division(3, 2)\n",
    "print(t[0], t[1])\n",
    "\n",
    "q, r = euclidean_division(42, 4)\n",
    "print(q, r)"
   ]
  },
  {
   "cell_type": "markdown",
   "metadata": {},
   "source": [
    "#### Dictionary"
   ]
  },
  {
   "cell_type": "code",
   "execution_count": 18,
   "metadata": {},
   "outputs": [
    {
     "name": "stdout",
     "output_type": "stream",
     "text": [
      "1\n",
      "10\n"
     ]
    }
   ],
   "source": [
    "d = {\n",
    "  \"a\": 1,\n",
    "  \"b\": 2,\n",
    "  \"c\": 3, \n",
    "}\n",
    "\n",
    "print(d[\"a\"])\n",
    "\n",
    "d[\"a\"] = 10\n",
    "print(d[\"a\"])"
   ]
  },
  {
   "cell_type": "markdown",
   "metadata": {},
   "source": [
    "#### Set"
   ]
  },
  {
   "cell_type": "code",
   "execution_count": 25,
   "metadata": {},
   "outputs": [
    {
     "name": "stdout",
     "output_type": "stream",
     "text": [
      "{1, 2, 3, 4, 5}\n",
      "{1, 2, 3, 4, 5}\n",
      "{1, 2, 3, 4, 5, 6}\n",
      "{1, 2, 3, 4, 5, 6}\n",
      "{4, 5, 6}\n"
     ]
    }
   ],
   "source": [
    "s = {1, 2, 3, 4, 5}\n",
    "\n",
    "s.add(1)\n",
    "print(s)\n",
    "\n",
    "s.add(1)\n",
    "print(s)\n",
    "\n",
    "s.add(6)\n",
    "print(s)\n",
    "\n",
    "print(s.union({4, 5, 6}))\n",
    "print(s.intersection({4, 5, 6}))"
   ]
  },
  {
   "cell_type": "markdown",
   "metadata": {},
   "source": [
    "### Boolean logic"
   ]
  },
  {
   "cell_type": "markdown",
   "metadata": {},
   "source": [
    "#### Performing Boolean logic\n"
   ]
  },
  {
   "cell_type": "code",
   "execution_count": 28,
   "metadata": {},
   "outputs": [
    {
     "name": "stdout",
     "output_type": "stream",
     "text": [
      "True\n",
      "True\n",
      "False\n"
     ]
    }
   ],
   "source": [
    "x = 10\n",
    "print(x > 0 and x < 100)\n",
    "print(x > 0 or (x % 2 == 0))\n",
    "print(not (x > 0))"
   ]
  },
  {
   "cell_type": "markdown",
   "metadata": {},
   "source": [
    "#### Checking whether two variables are the same"
   ]
  },
  {
   "cell_type": "code",
   "execution_count": 31,
   "metadata": {},
   "outputs": [
    {
     "name": "stdout",
     "output_type": "stream",
     "text": [
      "False\n",
      "True\n"
     ]
    }
   ],
   "source": [
    "a = [1, 2, 3]\n",
    "b = [1, 2, 3]\n",
    "# Even though the a and b lists are identical, they’re not the same object in \n",
    "# memory, so a is b is false.\n",
    "print(a is b)\n",
    "print(a == b)"
   ]
  },
  {
   "cell_type": "code",
   "execution_count": 32,
   "metadata": {},
   "outputs": [
    {
     "name": "stdout",
     "output_type": "stream",
     "text": [
      "True\n"
     ]
    }
   ],
   "source": [
    "a = [1, 2, 3]\n",
    "b = a\n",
    "# b variable refers to the same object as a, the same list in memory, the \n",
    "# identity operator is true.\n",
    "print(a is b)"
   ]
  },
  {
   "cell_type": "markdown",
   "metadata": {},
   "source": [
    "#### Checking value presence in data structure"
   ]
  },
  {
   "cell_type": "code",
   "execution_count": 35,
   "metadata": {},
   "outputs": [
    {
     "name": "stdout",
     "output_type": "stream",
     "text": [
      "True\n",
      "False\n",
      "True\n"
     ]
    }
   ],
   "source": [
    "lst = [1, 2, 3]\n",
    "print(2 in lst)\n",
    "print(5 in lst)\n",
    "print(5 not in lst)"
   ]
  },
  {
   "cell_type": "code",
   "execution_count": 36,
   "metadata": {},
   "outputs": [
    {
     "name": "stdout",
     "output_type": "stream",
     "text": [
      "True\n"
     ]
    }
   ],
   "source": [
    "tpl = (1, 2, 3)\n",
    "print(2 in tpl)"
   ]
  },
  {
   "cell_type": "code",
   "execution_count": 37,
   "metadata": {},
   "outputs": [
    {
     "name": "stdout",
     "output_type": "stream",
     "text": [
      "True\n"
     ]
    }
   ],
   "source": [
    "s = {1, 2, 3}\n",
    "print(2 in s)"
   ]
  },
  {
   "cell_type": "code",
   "execution_count": 39,
   "metadata": {},
   "outputs": [
    {
     "name": "stdout",
     "output_type": "stream",
     "text": [
      "True\n",
      "False\n"
     ]
    }
   ],
   "source": [
    "dct = {\n",
    "  \"a\": 1,\n",
    "  \"b\": 2,\n",
    "  \"c\": 3,\n",
    "}\n",
    "print(\"b\" in dct)\n",
    "print(3 in dct)"
   ]
  },
  {
   "cell_type": "markdown",
   "metadata": {},
   "source": [
    "### Controlling program flow"
   ]
  },
  {
   "cell_type": "markdown",
   "metadata": {},
   "source": [
    "#### Executing operations conditionally – if, elif, and else"
   ]
  },
  {
   "cell_type": "code",
   "execution_count": null,
   "metadata": {},
   "outputs": [],
   "source": [
    "# Example: dictionary with e-commerce order info, function to change status.\n",
    "def forward_order_status(order: dict):\n",
    "  if order[\"status\"] == \"NEW\":\n",
    "    order[\"status\"] = \"IN_PROGRESS\"\n",
    "  elif order[\"status\"] == \"IN_PROGRESS\":\n",
    "    order[\"status\"] = \"SHIPPED\"\n",
    "  else:\n",
    "    order[\"status\"] = \"DONE\"\n",
    "  return order"
   ]
  },
  {
   "cell_type": "markdown",
   "metadata": {},
   "source": [
    "#### Repeating operations over an iterator – the for loop statement"
   ]
  },
  {
   "cell_type": "code",
   "execution_count": 40,
   "metadata": {},
   "outputs": [
    {
     "name": "stdout",
     "output_type": "stream",
     "text": [
      "1\n",
      "2\n",
      "3\n"
     ]
    }
   ],
   "source": [
    "for i in [1, 2, 3]:\n",
    "  print(i)"
   ]
  },
  {
   "cell_type": "code",
   "execution_count": 42,
   "metadata": {},
   "outputs": [
    {
     "name": "stdout",
     "output_type": "stream",
     "text": [
      "a\n",
      "b\n",
      "c\n"
     ]
    }
   ],
   "source": [
    "for k in {\"a\": 1, \"b\": 2, \"c\": 3}:\n",
    "  print(k)"
   ]
  },
  {
   "cell_type": "code",
   "execution_count": 43,
   "metadata": {},
   "outputs": [
    {
     "name": "stdout",
     "output_type": "stream",
     "text": [
      "0\n",
      "1\n",
      "2\n"
     ]
    }
   ],
   "source": [
    "for i in range(3):\n",
    "  print(i)"
   ]
  },
  {
   "cell_type": "code",
   "execution_count": 44,
   "metadata": {},
   "outputs": [
    {
     "name": "stdout",
     "output_type": "stream",
     "text": [
      "1\n",
      "2\n"
     ]
    }
   ],
   "source": [
    "for i in range(1, 3):\n",
    "  print(i)"
   ]
  },
  {
   "cell_type": "code",
   "execution_count": 45,
   "metadata": {},
   "outputs": [
    {
     "name": "stdout",
     "output_type": "stream",
     "text": [
      "0\n",
      "2\n",
      "4\n"
     ]
    }
   ],
   "source": [
    "for i in range(0, 5, 2):\n",
    "  print(i)"
   ]
  },
  {
   "cell_type": "markdown",
   "metadata": {},
   "source": [
    "#### Repeating operations until a condition is met – the while loop statement"
   ]
  },
  {
   "cell_type": "code",
   "execution_count": 46,
   "metadata": {},
   "outputs": [
    {
     "name": "stdout",
     "output_type": "stream",
     "text": [
      "['A', 'B', 'C', 'A', 'B', 'C', 'A', 'B', 'C']\n"
     ]
    }
   ],
   "source": [
    "# retrieve paginated elements until reaching the end\n",
    "\"\"\"\n",
    "The retrieve_page function returns a dictionary with page items and next page \n",
    "number or None if last page. Call retrieve_page until page is None, saving items\n",
    "in an accumulator.\n",
    "\n",
    "Common use case with third-party REST APIs to retrieve all items using \n",
    "while loops. \n",
    "\"\"\"\n",
    "def retrieve_page(page):\n",
    "  if page > 3:\n",
    "    return {\"next_page\": None, \"items\": []}\n",
    "  return {\"next_page\": page + 1, \"items\": [\"A\", \"B\", \"C\"]}\n",
    "\n",
    "items = []\n",
    "page = 1\n",
    "while page is not None:\n",
    "  page_result = retrieve_page(page)\n",
    "  items += page_result[\"items\"]\n",
    "  page = page_result[\"next_page\"]\n",
    "print(items)"
   ]
  },
  {
   "cell_type": "markdown",
   "metadata": {},
   "source": [
    "### Defining functions"
   ]
  },
  {
   "cell_type": "code",
   "execution_count": 47,
   "metadata": {},
   "outputs": [
    {
     "data": {
      "text/plain": [
       "2"
      ]
     },
     "execution_count": 47,
     "metadata": {},
     "output_type": "execute_result"
    }
   ],
   "source": [
    "def f(a):\n",
    "  return a\n",
    "\n",
    "f(2)"
   ]
  },
  {
   "cell_type": "code",
   "execution_count": 49,
   "metadata": {},
   "outputs": [
    {
     "name": "stdout",
     "output_type": "stream",
     "text": [
      "(2, 1)\n",
      "(2, 3)\n",
      "(2, 3)\n"
     ]
    }
   ],
   "source": [
    "def f(a, b = 1):\n",
    "  return a, b\n",
    "\n",
    "print(f(2))\n",
    "print(f(2, 3))\n",
    "print(f(a=2, b=3))"
   ]
  },
  {
   "cell_type": "code",
   "execution_count": 50,
   "metadata": {},
   "outputs": [
    {
     "name": "stdout",
     "output_type": "stream",
     "text": [
      "(1, 2, 1)\n"
     ]
    }
   ],
   "source": [
    "def f(a=1, b=2, c=3):\n",
    "  return a, b, c\n",
    "\n",
    "print(f(c=1))"
   ]
  },
  {
   "cell_type": "markdown",
   "metadata": {},
   "source": [
    "#### Accepting arguments dynamically with *args and **kwargs"
   ]
  },
  {
   "cell_type": "code",
   "execution_count": 51,
   "metadata": {},
   "outputs": [
    {
     "name": "stdout",
     "output_type": "stream",
     "text": [
      "args: (1, 2, 3)\n",
      "kwargs: {'a': 4, 'b': 5}\n"
     ]
    }
   ],
   "source": [
    "def f(*args, **kwargs):\n",
    "  print(f\"args: {args}\")\n",
    "  print(f\"kwargs: {kwargs}\")\n",
    "\n",
    "f(1, 2, 3, a=4, b=5)"
   ]
  },
  {
   "cell_type": "code",
   "execution_count": 53,
   "metadata": {},
   "outputs": [
    {
     "name": "stdout",
     "output_type": "stream",
     "text": [
      "a: 1\n",
      "args: (2, 3)\n"
     ]
    }
   ],
   "source": [
    "def f(a, *args):\n",
    "  print(f\"a: {a}\")\n",
    "  print(f\"args: {args}\")\n",
    "\n",
    "f(1, 2, 3)"
   ]
  },
  {
   "cell_type": "markdown",
   "metadata": {},
   "source": [
    "### Writing using packages modules"
   ]
  },
  {
   "cell_type": "code",
   "execution_count": 54,
   "metadata": {},
   "outputs": [
    {
     "name": "stdout",
     "output_type": "stream",
     "text": [
      "2024-03-02\n"
     ]
    }
   ],
   "source": [
    "import datetime\n",
    "\n",
    "# use the import keyword to access all content in the datetime module through \n",
    "# its namespace\n",
    "# datetime.date, the built-in class for working with dates. \n",
    "# Occasionally, you may want to explicitly import a specific part of the module.\n",
    "\n",
    "print(datetime.date.today())\n",
    "\n",
    "# Here, import date class to use directly. \n",
    "# Same principles apply to third-party packages installed with pip, such as FastAPI."
   ]
  },
  {
   "cell_type": "code",
   "execution_count": 55,
   "metadata": {},
   "outputs": [
    {
     "name": "stdout",
     "output_type": "stream",
     "text": [
      "Module is loaded.\n"
     ]
    }
   ],
   "source": [
    "# module.py\n",
    "\n",
    "# This module contains a function\n",
    "def module_function():\n",
    "  return \"Hello World\"\n",
    "\n",
    "# print statement executed when imported.\n",
    "print(\"Module is loaded.\")"
   ]
  },
  {
   "cell_type": "markdown",
   "metadata": {},
   "source": [
    "## List comprehensions, Generators"
   ]
  },
  {
   "cell_type": "markdown",
   "metadata": {},
   "source": [
    "### List comprehensions"
   ]
  },
  {
   "cell_type": "code",
   "execution_count": 56,
   "metadata": {},
   "outputs": [
    {
     "name": "stdout",
     "output_type": "stream",
     "text": [
      "[2, 4, 6, 8, 10]\n"
     ]
    }
   ],
   "source": [
    "numbers = [1, 2, 3, 4, 5, 6, 7, 8, 9, 10]\n",
    "even = [number for number in numbers if number % 2 == 0]\n",
    "print(even)"
   ]
  },
  {
   "cell_type": "code",
   "execution_count": 57,
   "metadata": {},
   "outputs": [
    {
     "name": "stdout",
     "output_type": "stream",
     "text": [
      "[10, 1, 7, 8, 10]\n"
     ]
    }
   ],
   "source": [
    "from random import randint, seed\n",
    "# the randint function of the random standard module is used to generate a list\n",
    "# of random integers.\n",
    "seed(10)\n",
    "random_elements = [randint(1, 10) for _ in range(5)]\n",
    "print(random_elements)"
   ]
  },
  {
   "cell_type": "code",
   "execution_count": 58,
   "metadata": {},
   "outputs": [
    {
     "name": "stdout",
     "output_type": "stream",
     "text": [
      "{1, 4, 5, 7, 8, 10}\n"
     ]
    }
   ],
   "source": [
    "from random import randint, seed\n",
    "\n",
    "seed(10)\n",
    "random_unique_elements = {randint(1, 10) for _ in range(10)}\n",
    "print(random_unique_elements)"
   ]
  },
  {
   "cell_type": "code",
   "execution_count": 63,
   "metadata": {},
   "outputs": [
    {
     "name": "stdout",
     "output_type": "stream",
     "text": [
      "{0: 10, 1: 1, 2: 7, 3: 8, 4: 10}\n"
     ]
    }
   ],
   "source": [
    "from random import randint, seed\n",
    "\n",
    "seed(10)\n",
    "random_dictionary = {i: randint(1, 10) for i in range(5)}\n",
    "print(random_dictionary)"
   ]
  },
  {
   "cell_type": "markdown",
   "metadata": {},
   "source": [
    "### Generators"
   ]
  },
  {
   "cell_type": "code",
   "execution_count": 64,
   "metadata": {},
   "outputs": [
    {
     "name": "stdout",
     "output_type": "stream",
     "text": [
      "[2, 4, 6, 8, 10]\n",
      "[]\n"
     ]
    }
   ],
   "source": [
    "numbers = [1, 2, 3, 4, 5, 6, 7, 8, 9, 10]\n",
    "# Define even_generator to output even numbers from a list. \n",
    "even_generator = (number for number in numbers if number % 2 == 0)\n",
    "# Call list constructor with this generator, assign to variable even. \n",
    "# Even numbers are listed in \"even\" list\n",
    "# Generator can only be used once.\n",
    "even = list(even_generator)\n",
    "# Repeat for even_bis.\n",
    "# \"even_bis\" is empty. \n",
    "even_bis = list(even_generator)\n",
    "\n",
    "print(even)\n",
    "print(even_bis)"
   ]
  },
  {
   "cell_type": "code",
   "execution_count": 69,
   "metadata": {},
   "outputs": [
    {
     "name": "stdout",
     "output_type": "stream",
     "text": [
      "2 4 6 8 10 Generator exhausted\n"
     ]
    }
   ],
   "source": [
    "\n",
    "def even_numbers(max):\n",
    "  # Generator function that outputs even numbers from 2 to the `limit` argument.\n",
    "  for i in range(2, max + 1):\n",
    "    if i % 2 == 0:\n",
    "      # The yield keyword is used instead of return.\n",
    "      # When the interpreter reaches this statement, it pauses the function \n",
    "      # execution and yields the value to the generator consumer.\n",
    "      # When the main program asks for another value, the function is resumed to\n",
    "      # yield again.\n",
    "      yield i\n",
    "      \n",
    "  # Code after last yield statement is executed.\n",
    "  print(\"Generator exhausted\")\n",
    "\n",
    "even = even_numbers(10)\n",
    "for n in even:\n",
    "  print(n, end=' ')\n",
    "\n",
    "for n in even:\n",
    "  print(n, end=' ')"
   ]
  },
  {
   "cell_type": "markdown",
   "metadata": {},
   "source": [
    "## OOP"
   ]
  },
  {
   "cell_type": "markdown",
   "metadata": {},
   "source": [
    "### Defining a class"
   ]
  },
  {
   "cell_type": "code",
   "execution_count": 74,
   "metadata": {},
   "outputs": [
    {
     "name": "stdout",
     "output_type": "stream",
     "text": [
      "Alan\n",
      "Hello, Alan\n",
      "Hello, John\n"
     ]
    }
   ],
   "source": [
    "class Greetings:\n",
    "  def __init__(self, default_name: str):\n",
    "    # sets a default_name property for the greet method if no name is provided.\n",
    "    self.default_name = default_name\n",
    "  \n",
    "  def greet(self, name=None):\n",
    "    return f\"Hello, {name if name else self.default_name}\"\n",
    "  \n",
    "c = Greetings(\"Alan\")\n",
    "print(c.default_name)\n",
    "print(c.greet())\n",
    "print(c.greet(\"John\"))"
   ]
  },
  {
   "cell_type": "markdown",
   "metadata": {},
   "source": [
    "### Magic methods"
   ]
  },
  {
   "cell_type": "markdown",
   "metadata": {},
   "source": [
    "#### Object representations – repr and str"
   ]
  },
  {
   "cell_type": "code",
   "execution_count": 75,
   "metadata": {},
   "outputs": [
    {
     "name": "stdout",
     "output_type": "stream",
     "text": [
      "Temperature(25, 'C')\n",
      "Temperature is 25 °C\n",
      "Temperature is 25 °C\n"
     ]
    }
   ],
   "source": [
    "# Class representing temperature in Celsius or Fahrenheit.\n",
    "class Temperature:\n",
    "  def __init__(self, value, scale):\n",
    "    self.value = value\n",
    "    self.scale = scale\n",
    "  \n",
    "  def __repr__(self) -> str:\n",
    "    return f\"Temperature({self.value}, {self.scale!r})\"\n",
    "  \n",
    "  def __str__(self) -> str:\n",
    "    return f\"Temperature is {self.value} °{self.scale}\"\n",
    "\n",
    "t = Temperature(25, \"C\")\n",
    "\n",
    "print(repr(t))\n",
    "print(str(t))\n",
    "print(t)"
   ]
  },
  {
   "cell_type": "markdown",
   "metadata": {},
   "source": [
    "#### Comparison methods – **__eq__**, **__gt__**, **__lt__**, and so on"
   ]
  },
  {
   "cell_type": "code",
   "execution_count": 76,
   "metadata": {},
   "outputs": [
    {
     "name": "stdout",
     "output_type": "stream",
     "text": [
      "True\n",
      "True\n"
     ]
    }
   ],
   "source": [
    "# Comparing temperatures with different units can lead to unexpected results.\n",
    "class Temperature:\n",
    "  def __init__(self, value, scale) -> None:\n",
    "    self.value = value\n",
    "    self.scale = scale\n",
    "    \n",
    "    # Temperature value converted into Kelvin based on current scale for comparisons.\n",
    "    if scale == \"C\":\n",
    "      self.value_kelvin = value + 273.15\n",
    "    elif scale == \"F\":\n",
    "      self.value_kelvin = (value - 32)*5 / 9 + 273.15\n",
    "  \n",
    "  # Check the type of the other variable using isinstance to ensure it is a \n",
    "  # Temperature object, or raise a proper exception otherwise.\n",
    "  def __eq__(self, other: object) -> bool:\n",
    "    return self.value_kelvin == other.value_kelvin\n",
    "  \n",
    "  def __lt__(self, other: object) -> bool:\n",
    "    return self.value_kelvin < other.value_kelvin\n",
    "\n",
    "tc = Temperature(25, \"C\")  \n",
    "tf = Temperature(77, \"F\")\n",
    "tf2 = Temperature(100, \"F\")\n",
    "print(tc == tf)\n",
    "print(tc < tf2)"
   ]
  },
  {
   "cell_type": "markdown",
   "metadata": {},
   "source": [
    "#### Operators: add, sub, mul, and so on"
   ]
  },
  {
   "cell_type": "markdown",
   "metadata": {},
   "source": [
    "#### Callable object – **call**"
   ]
  },
  {
   "cell_type": "code",
   "execution_count": 79,
   "metadata": {},
   "outputs": [
    {
     "name": "stdout",
     "output_type": "stream",
     "text": [
      "0\n",
      "1\n",
      "11\n"
     ]
    }
   ],
   "source": [
    "from typing import Any\n",
    "\n",
    "\n",
    "class Counter:\n",
    "  def __init__(self) -> None:\n",
    "    self.counter = 0\n",
    "  \n",
    "  def __call__(self, inc=1, *args: Any, **kwds: Any) -> Any:\n",
    "    self.counter += inc\n",
    "  \n",
    "c = Counter()\n",
    "print(c.counter)\n",
    "c()\n",
    "print(c.counter)\n",
    "c(10)\n",
    "print(c.counter)"
   ]
  },
  {
   "cell_type": "markdown",
   "metadata": {},
   "source": [
    "### Inheritance: Reusing logic, avoiding repetition"
   ]
  },
  {
   "cell_type": "code",
   "execution_count": null,
   "metadata": {},
   "outputs": [],
   "source": [
    "class A:\n",
    "  def f(self):\n",
    "    return \"A\"\n",
    "\n",
    "class Child(A):\n",
    "  # The Child class inherits from the A class.\n",
    "  def f(self):\n",
    "    parent_result = super().f()\n",
    "    return f\"Child {parent_result}\""
   ]
  },
  {
   "cell_type": "markdown",
   "metadata": {},
   "source": [
    "#### Multiple inheritance"
   ]
  },
  {
   "cell_type": "code",
   "execution_count": null,
   "metadata": {},
   "outputs": [],
   "source": [
    "class A:\n",
    "  def f(self):\n",
    "    return \"A\"\n",
    "\n",
    "class B:\n",
    "  def g(self):\n",
    "    return \"B\"\n",
    "\n",
    "class Child(A, B):\n",
    "  # Child class can call methods f and g.\n",
    "  pass"
   ]
  },
  {
   "cell_type": "code",
   "execution_count": 80,
   "metadata": {},
   "outputs": [
    {
     "name": "stdout",
     "output_type": "stream",
     "text": [
      "[<class '__main__.Child'>, <class '__main__.A'>, <class '__main__.B'>, <class 'object'>]\n"
     ]
    }
   ],
   "source": [
    "class A:\n",
    "  def f(self):\n",
    "    return \"A\"\n",
    "\n",
    "\n",
    "class B:\n",
    "  def f(self):\n",
    "    return \"B\"\n",
    "\n",
    "\n",
    "class Child(A, B):\n",
    "  # When calling the f method of Child, the value returned is \"A\".\n",
    "  pass\n",
    "\n",
    "print(Child.mro())"
   ]
  },
  {
   "cell_type": "markdown",
   "metadata": {},
   "source": [
    "## Type hinting and type checking with mypy"
   ]
  },
  {
   "cell_type": "code",
   "execution_count": null,
   "metadata": {},
   "outputs": [],
   "source": [
    "def greeting(name: str) -> str:\n",
    "  # Type of the name argument after colon.\n",
    "  # Specify return type after an arrow.\n",
    "  return f\"Hello {name}\""
   ]
  },
  {
   "cell_type": "markdown",
   "metadata": {},
   "source": [
    "### Type data structures"
   ]
  },
  {
   "cell_type": "code",
   "execution_count": null,
   "metadata": {},
   "outputs": [],
   "source": [
    "l: list[int] = [1, 2, 3, 4, 5]\n",
    "t: tuple[int, str, float] = (1, \"hello\", 3.14)\n",
    "s: set[int] = {1, 2, 3, 4, 5}\n",
    "d: dict[str, int] = {\n",
    "  \"a\": 1, \"b\": 2, \"c\": 3,\n",
    "} "
   ]
  },
  {
   "cell_type": "code",
   "execution_count": null,
   "metadata": {},
   "outputs": [],
   "source": [
    "# List accepts integers or floating-point numbers. \n",
    "# Mypy will complain if you add an element that is not an int or float type.\n",
    "l: list[int | float] = [1, 2.5, 3.14, 5]"
   ]
  },
  {
   "cell_type": "code",
   "execution_count": 4,
   "metadata": {},
   "outputs": [],
   "source": [
    "def greeting(name: str) -> str:\n",
    "  # The allowed value is either a string or None.\n",
    "  return f\"Hello, {name if name else 'Anonymous'}\""
   ]
  },
  {
   "cell_type": "code",
   "execution_count": 5,
   "metadata": {},
   "outputs": [],
   "source": [
    "IntStringFLoatTuple = tuple[int, str, float]\n",
    "\n",
    "t: IntStringFLoatTuple = (1, \"Hello\", 3.14)"
   ]
  },
  {
   "cell_type": "code",
   "execution_count": 7,
   "metadata": {},
   "outputs": [
    {
     "name": "stdout",
     "output_type": "stream",
     "text": [
      "[<__main__.Post object at 0x7f1a9427fb50>, <__main__.Post object at 0x7f1a9467dc40>]\n"
     ]
    }
   ],
   "source": [
    "class Post:\n",
    "  def __init__(self, title: str) -> None:\n",
    "    self.title = title\n",
    "  \n",
    "  def __str__(self) -> str:\n",
    "    return self.title\n",
    "\n",
    "posts: list[Post] = [\n",
    "  Post(\"Post A\"), Post(\"Post B\"),\n",
    "]\n",
    "print(posts)"
   ]
  },
  {
   "cell_type": "markdown",
   "metadata": {},
   "source": [
    "### Type function signatures with Callable"
   ]
  },
  {
   "cell_type": "code",
   "execution_count": 9,
   "metadata": {},
   "outputs": [
    {
     "data": {
      "text/plain": [
       "[2, 4]"
      ]
     },
     "execution_count": 9,
     "metadata": {},
     "output_type": "execute_result"
    }
   ],
   "source": [
    "from collections.abc import Callable\n",
    "\n",
    "# Function with arguments list of integers and a function returning a Boolean\n",
    "# for an integer.\n",
    "\n",
    "# Define type alias\n",
    "# Expect single integer argument return type Boolean.\n",
    "ConditionFunction = Callable[[int], bool]\n",
    "\n",
    "# Use type alias in the annotation the function. \n",
    "# mypy will ensure that the condition function conforms to this signature. \n",
    "def filter_list(l: list[int], condition: ConditionFunction) -> list[int]:\n",
    "  return [i for i in l if condition(i)]\n",
    "\n",
    "# Function to check the parity of an integer.\n",
    "def is_even(i: int) -> bool:\n",
    "  return i % 2 == 0\n",
    "\n",
    "filter_list([1, 2, 3, 4, 5], is_even)"
   ]
  },
  {
   "cell_type": "markdown",
   "metadata": {},
   "source": [
    "### Any and cast"
   ]
  },
  {
   "cell_type": "code",
   "execution_count": 10,
   "metadata": {},
   "outputs": [
    {
     "name": "stdout",
     "output_type": "stream",
     "text": [
      "a\n",
      "10\n",
      "[1, 2, 3]\n"
     ]
    }
   ],
   "source": [
    "from typing import Any\n",
    "\n",
    "def f(x: Any) -> Any:\n",
    "  return x\n",
    "\n",
    "print(f(\"a\"))\n",
    "print(10)\n",
    "print([1, 2, 3])"
   ]
  },
  {
   "cell_type": "code",
   "execution_count": 13,
   "metadata": {},
   "outputs": [
    {
     "name": "stdout",
     "output_type": "stream",
     "text": [
      "<class 'str'>\n",
      "<class 'str'>\n"
     ]
    }
   ],
   "source": [
    "from typing import Any, cast\n",
    "\n",
    "def f(x: Any) -> Any:\n",
    "  return x\n",
    "\n",
    "a = f(\"a\")\n",
    "print(type(a))\n",
    "\n",
    "a = cast(str, f(\"a\"))\n",
    "print(type(a))"
   ]
  },
  {
   "cell_type": "markdown",
   "metadata": {},
   "source": [
    "## Asynchronous I/O"
   ]
  },
  {
   "cell_type": "code",
   "execution_count": 1,
   "metadata": {},
   "outputs": [],
   "source": [
    "# Hello world script using asyncio\n",
    "import asyncio\n",
    "\n",
    "async def main():\n",
    "  # Call print function\n",
    "  print(\"Hello ...\")\n",
    "  # call asyncio.sleep coroutine\n",
    "  # Async equivalent of time.sleep blocks program for given number of seconds.\n",
    "  await asyncio.sleep(1)\n",
    "  print(\"... World!\")\n",
    "\n",
    "asyncio.run(main())"
   ]
  },
  {
   "cell_type": "code",
   "execution_count": null,
   "metadata": {},
   "outputs": [],
   "source": [
    "# execute two coroutines concurrently\n",
    "import asyncio\n",
    "\n",
    "# Printer coroutine prints name multiple times with 1 second sleep in between.\n",
    "\n",
    "\n",
    "async def printer(name: str, times: int) -> None:\n",
    "  for i in range(times):\n",
    "    print(name)\n",
    "    # If removed await, we would have obtained a different result.\n",
    "    await asyncio.sleep(1)\n",
    "\n",
    "# Main coroutine schedules coroutines for concurrent execution.\n",
    "\n",
    "\n",
    "async def main():\n",
    "  await asyncio.gather(\n",
    "      printer(\"A\", 3),\n",
    "      printer(\"B\", 3)\n",
    "  )\n",
    "\n",
    "# Get a succession of A and B.\n",
    "# Coroutines were executed concurrently without waiting for the first one to\n",
    "# finish before starting the second one.\n",
    "asyncio.run(main())"
   ]
  },
  {
   "cell_type": "markdown",
   "metadata": {},
   "source": [
    "# RESTful API with FastAPI"
   ]
  },
  {
   "cell_type": "code",
   "execution_count": null,
   "metadata": {},
   "outputs": [],
   "source": [
    "# first_endpoint.py\n",
    "from fastapi import FastAPI\n",
    "\n",
    "app = FastAPI()\n",
    "\n",
    "# Define a GET endpoint at the root path\n",
    "# Always returning {\"hello\": \"world\"} JSON response.\n",
    "\n",
    "\n",
    "@app.get(\"/\")\n",
    "async def hello_world():\n",
    "  return {\n",
    "      \"hello\": \"world\"\n",
    "  }\n",
    "\n",
    "\"\"\"\n",
    "uvicorn first_endpoint:app\n",
    "\"\"\""
   ]
  },
  {
   "cell_type": "markdown",
   "metadata": {},
   "source": [
    "## Handling request parameters"
   ]
  },
  {
   "cell_type": "markdown",
   "metadata": {},
   "source": [
    "### Path parameters"
   ]
  },
  {
   "cell_type": "code",
   "execution_count": null,
   "metadata": {},
   "outputs": [],
   "source": []
  },
  {
   "cell_type": "code",
   "execution_count": null,
   "metadata": {},
   "outputs": [],
   "source": []
  },
  {
   "cell_type": "code",
   "execution_count": null,
   "metadata": {},
   "outputs": [],
   "source": []
  },
  {
   "cell_type": "code",
   "execution_count": null,
   "metadata": {},
   "outputs": [],
   "source": []
  },
  {
   "cell_type": "code",
   "execution_count": null,
   "metadata": {},
   "outputs": [],
   "source": []
  },
  {
   "cell_type": "code",
   "execution_count": null,
   "metadata": {},
   "outputs": [],
   "source": []
  },
  {
   "cell_type": "code",
   "execution_count": null,
   "metadata": {},
   "outputs": [],
   "source": []
  },
  {
   "cell_type": "code",
   "execution_count": null,
   "metadata": {},
   "outputs": [],
   "source": []
  },
  {
   "cell_type": "code",
   "execution_count": null,
   "metadata": {},
   "outputs": [],
   "source": []
  },
  {
   "cell_type": "code",
   "execution_count": null,
   "metadata": {},
   "outputs": [],
   "source": []
  },
  {
   "cell_type": "code",
   "execution_count": null,
   "metadata": {},
   "outputs": [],
   "source": []
  },
  {
   "cell_type": "markdown",
   "metadata": {},
   "source": [
    "# !"
   ]
  }
 ],
 "metadata": {
  "kernelspec": {
   "display_name": "Python 3",
   "language": "python",
   "name": "python3"
  },
  "language_info": {
   "codemirror_mode": {
    "name": "ipython",
    "version": 3
   },
   "file_extension": ".py",
   "mimetype": "text/x-python",
   "name": "python",
   "nbconvert_exporter": "python",
   "pygments_lexer": "ipython3",
   "version": "3.9.18"
  }
 },
 "nbformat": 4,
 "nbformat_minor": 2
}
